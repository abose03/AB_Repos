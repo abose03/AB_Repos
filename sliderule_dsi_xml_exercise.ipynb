{
 "cells": [
  {
   "cell_type": "markdown",
   "metadata": {},
   "source": [
    "# XML example and exercise\n",
    "****\n",
    "+ study examples of accessing nodes in XML tree structure  \n",
    "+ work on exercise to be completed and submitted\n",
    "****\n",
    "+ reference: https://docs.python.org/2.7/library/xml.etree.elementtree.html\n",
    "+ data source: http://www.dbis.informatik.uni-goettingen.de/Mondial\n",
    "****"
   ]
  },
  {
   "cell_type": "code",
   "execution_count": null,
   "metadata": {
    "collapsed": false
   },
   "outputs": [],
   "source": [
    "from xml.etree import ElementTree as ET\n",
    "# Import numpy\n",
    "import numpy as np\n",
    "from operator import itemgetter"
   ]
  },
  {
   "cell_type": "markdown",
   "metadata": {},
   "source": [
    "## XML example\n",
    "\n",
    "+ for details about tree traversal and iterators, see https://docs.python.org/2.7/library/xml.etree.elementtree.html"
   ]
  },
  {
   "cell_type": "code",
   "execution_count": null,
   "metadata": {
    "collapsed": false
   },
   "outputs": [],
   "source": [
    "document_tree = ET.parse( './data/mondial_database_less.xml' )"
   ]
  },
  {
   "cell_type": "code",
   "execution_count": null,
   "metadata": {
    "collapsed": false
   },
   "outputs": [],
   "source": [
    "# print names of all countries\n",
    "for child in document_tree.getroot():\n",
    "    print child.find('name').text"
   ]
  },
  {
   "cell_type": "code",
   "execution_count": null,
   "metadata": {
    "collapsed": false
   },
   "outputs": [],
   "source": [
    "# print names of all countries and their cities\n",
    "for element in document_tree.iterfind('country'):\n",
    "    print '* ' + element.find('name').text + ':',\n",
    "    capitals_string = ''\n",
    "    for subelement in element.getiterator('city'):\n",
    "        capitals_string += subelement.find('name').text + ', '\n",
    "    print capitals_string[:-2]"
   ]
  },
  {
   "cell_type": "markdown",
   "metadata": {},
   "source": [
    "****\n",
    "## XML exercise\n",
    "\n",
    "Using data in 'data/mondial_database.xml', the examples above, and refering to https://docs.python.org/2.7/library/xml.etree.elementtree.html, find\n",
    "\n",
    "1. 10 countries with the lowest infant mortality rates\n",
    "2. 10 cities with the largest population\n",
    "3. 10 ethnic groups with the largest overall populations (sum of best/latest estimates over all countries)\n",
    "4. name and country of a) longest river, b) largest lake and c) airport at highest elevation"
   ]
  },
  {
   "cell_type": "code",
   "execution_count": 2,
   "metadata": {
    "collapsed": false
   },
   "outputs": [],
   "source": [
    "document = ET.parse( 'C:/MyBriefCase\\Exercises/data_wrangling_xml/data_wrangling_xml/data/mondial_database.xml' )"
   ]
  },
  {
   "cell_type": "markdown",
   "metadata": {},
   "source": [
    "** 10 countries with the lowest infant mortality rates **"
   ]
  },
  {
   "cell_type": "code",
   "execution_count": null,
   "metadata": {
    "collapsed": false
   },
   "outputs": [],
   "source": [
    "for element in document.findall('country'):\n",
    "    print(element.find('infant_mortality').text)"
   ]
  },
  {
   "cell_type": "markdown",
   "metadata": {},
   "source": [
    "** 10 cities with the largest population **"
   ]
  },
  {
   "cell_type": "code",
   "execution_count": null,
   "metadata": {
    "collapsed": false
   },
   "outputs": [],
   "source": [
    "npArr = np.array([])\n",
    "index = 0\n",
    "for element in document.findall('country'):\n",
    "    infantM = element.find('infant_mortality')\n",
    "    if infantM is None:\n",
    "        continue\n",
    "    eleVal = infantM.text\n",
    "    #print(eleVal)\n",
    "    if eleVal != np.nan:\n",
    "        np.append(npArr, eleVal)\n",
    "        index = index + 1 \n",
    "    \n",
    "    #if index > 10:\n",
    "        #break\n",
    "#print(npArr) \n",
    "\n",
    "np.sort(npArr, axis=0)\n",
    "print(npArr)"
   ]
  },
  {
   "cell_type": "markdown",
   "metadata": {
    "collapsed": false
   },
   "source": [
    "** 10 ethnic groups with the largest overall populations (sum of best/latest estimates over all countries) **"
   ]
  },
  {
   "cell_type": "code",
   "execution_count": null,
   "metadata": {
    "collapsed": false
   },
   "outputs": [],
   "source": [
    "myList = []\n",
    "index = 0\n",
    "for element in document.findall('country'):\n",
    "    infantM = element.find('infant_mortality')\n",
    "    if infantM is None:\n",
    "        continue\n",
    "    eleVal = infantM.text\n",
    "    if eleVal != np.nan:\n",
    "        myList.insert(index, eleVal)\n",
    "        index = index + 1 \n",
    "    \n",
    "#print(myList) \n",
    "\n",
    "myList.sort()\n",
    "print(myList)\n",
    "\n",
    "print(myList[:10])"
   ]
  },
  {
   "cell_type": "markdown",
   "metadata": {},
   "source": [
    "** name and country of a) longest river, b) largest lake and c) airport at highest elevation **"
   ]
  },
  {
   "cell_type": "code",
   "execution_count": null,
   "metadata": {
    "collapsed": false
   },
   "outputs": [],
   "source": [
    "myListPop = []\n",
    "index = 0\n",
    "root = document.getroot()\n",
    "for ctry in root.iter('country'):\n",
    "    CtryNmEle = ctry.find('name')\n",
    "    if CtryNmEle is None:\n",
    "        continue\n",
    "    ctryNm = CtryNmEle.text\n",
    "    for city in ctry.findall('city'):\n",
    "        cityNmEle = city.find('name')\n",
    "        if cityNmEle is None:\n",
    "            continue\n",
    "        cityNm = cityNmEle.text\n",
    "        for popEle in city.findall('population'):\n",
    "            if popEle is None:\n",
    "                continue\n",
    "            year = int(popEle.get('year'))\n",
    "            if (year == 2011):\n",
    "                popNb = int(popEle.text)\n",
    "                lstCP = [ctryNm, cityNm, popNb]\n",
    "                myListPop.insert(index, lstCP)\n",
    "                index = index + 1\n",
    "    \n",
    "    #if (index > 10):\n",
    "        #break\n",
    "\n",
    "myListPopDesc = sorted(myListPop, key = itemgetter(2), reverse = True)\n",
    "#print(myListPopDesc)\n",
    "\n",
    "print(myListPopDesc[:10])"
   ]
  },
  {
   "cell_type": "code",
   "execution_count": 15,
   "metadata": {
    "collapsed": false
   },
   "outputs": [
    {
     "name": "stdout",
     "output_type": "stream",
     "text": [
      "[['Albanian', 95.0, 29475.136842105265], ['Greek', 3.0, 933379.3333333334]]\n"
     ]
    },
    {
     "ename": "TypeError",
     "evalue": "list indices must be integers or slices, not tuple",
     "output_type": "error",
     "traceback": [
      "\u001b[0;31m---------------------------------------------------------------------------\u001b[0m",
      "\u001b[0;31mTypeError\u001b[0m                                 Traceback (most recent call last)",
      "\u001b[0;32m<ipython-input-15-dab724f95170>\u001b[0m in \u001b[0;36m<module>\u001b[0;34m()\u001b[0m\n\u001b[1;32m     28\u001b[0m     \u001b[0mprint\u001b[0m\u001b[1;33m(\u001b[0m\u001b[0mmylstEGP\u001b[0m\u001b[1;33m)\u001b[0m\u001b[1;33m\u001b[0m\u001b[0m\n\u001b[1;32m     29\u001b[0m     \u001b[1;31m#Find the Max population set from lstEGP\u001b[0m\u001b[1;33m\u001b[0m\u001b[1;33m\u001b[0m\u001b[0m\n\u001b[0;32m---> 30\u001b[0;31m     \u001b[0mmaxLst\u001b[0m \u001b[1;33m=\u001b[0m \u001b[0mnp\u001b[0m\u001b[1;33m.\u001b[0m\u001b[0mmax\u001b[0m\u001b[1;33m(\u001b[0m\u001b[0mmylstEGP\u001b[0m\u001b[1;33m[\u001b[0m\u001b[1;33m:\u001b[0m\u001b[1;33m,\u001b[0m\u001b[1;36m1\u001b[0m\u001b[1;33m]\u001b[0m\u001b[1;33m)\u001b[0m\u001b[1;33m\u001b[0m\u001b[0m\n\u001b[0m\u001b[1;32m     31\u001b[0m     \u001b[0mnp\u001b[0m\u001b[1;33m.\u001b[0m\u001b[0mappend\u001b[0m\u001b[1;33m(\u001b[0m\u001b[0mnpArr\u001b[0m\u001b[1;33m,\u001b[0m \u001b[0mmaxLst\u001b[0m\u001b[1;33m)\u001b[0m\u001b[1;33m\u001b[0m\u001b[0m\n\u001b[1;32m     32\u001b[0m     \u001b[1;31m#index = index + 1\u001b[0m\u001b[1;33m\u001b[0m\u001b[1;33m\u001b[0m\u001b[0m\n",
      "\u001b[0;31mTypeError\u001b[0m: list indices must be integers or slices, not tuple"
     ]
    }
   ],
   "source": [
    "npArr = np.array([])\n",
    "index = 0\n",
    "root = document.getroot()\n",
    "for ctry in root.iter('country'):\n",
    "    CtryNmEle = ctry.find('name')\n",
    "    if CtryNmEle is None:\n",
    "        continue\n",
    "    ctryNm = CtryNmEle.text\n",
    "    popNb = 0\n",
    "    #Get population for the year 2011(preferably)\n",
    "    for popEle in ctry.findall('population'):\n",
    "        if popEle is None:\n",
    "            continue\n",
    "        popNb = int(popEle.text)\n",
    "    \n",
    "    #Get Ethnicgroup and it's percentage on overall population\n",
    "    mylstEGP = []\n",
    "    indexEGP = 0\n",
    "    for eGrp in ctry.findall('ethnicgroup'):\n",
    "        eGrpNm = eGrp.text\n",
    "        eGrpPerc = float(eGrp.get('percentage'))\n",
    "        popEGP = float(popNb/eGrpPerc)\n",
    "        lstEGP = [eGrpNm, eGrpPerc, popEGP]\n",
    "        #print(lstEGP)\n",
    "        mylstEGP.insert(indexEGP, lstEGP)\n",
    "        indexEGP = indexEGP + 1 \n",
    "    \n",
    "    print(mylstEGP)\n",
    "    #Find the Max population set from lstEGP\n",
    "    maxLst = mylstEGP.max(mylstEGP[:,1])\n",
    "    np.append(npArr, maxLst)   \n",
    "    #index = index + 1    \n",
    "        \n",
    "    if (index > 10):\n",
    "        break\n",
    "print(npArr)\n",
    "myEGPDesc = sorted(npArr, key=lambda item: item[2], reverse = True)\n",
    "#print(myListPopDesc)\n",
    "\n",
    "print(myEGPDesc[:10])"
   ]
  },
  {
   "cell_type": "code",
   "execution_count": null,
   "metadata": {
    "collapsed": true
   },
   "outputs": [],
   "source": []
  }
 ],
 "metadata": {
  "kernelspec": {
   "display_name": "Python 3",
   "language": "python",
   "name": "python3"
  },
  "language_info": {
   "codemirror_mode": {
    "name": "ipython",
    "version": 3
   },
   "file_extension": ".py",
   "mimetype": "text/x-python",
   "name": "python",
   "nbconvert_exporter": "python",
   "pygments_lexer": "ipython3",
   "version": "3.6.0"
  }
 },
 "nbformat": 4,
 "nbformat_minor": 0
}
